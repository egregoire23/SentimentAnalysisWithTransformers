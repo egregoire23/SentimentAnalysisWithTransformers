{
 "cells": [
  {
   "cell_type": "markdown",
   "metadata": {},
   "source": [
    "# Sentiment Analysis with Transformers\n",
    "## By Erin Gregoire & Dawson Damuth\n",
    "### June 2025"
   ]
  },
  {
   "cell_type": "code",
   "execution_count": 2,
   "metadata": {},
   "outputs": [],
   "source": [
    "import pandas as pd\n",
    "import matplotlib.pyplot as plt\n",
    "import time\n",
    "import numpy as np\n",
    "from sklearn.metrics import precision_recall_fscore_support\n",
    "from sklearn.model_selection import train_test_split\n",
    "from torchmetrics import ROC\n",
    "import copy\n",
    "import math\n",
    "import json\n",
    "\n",
    "import torch\n",
    "from torch.utils.data import TensorDataset, DataLoader\n",
    "import torchinfo\n",
    "import torch.nn as nn\n",
    "import torch.nn.functional as F\n",
    "import torch.optim as optim"
   ]
  },
  {
   "cell_type": "code",
   "execution_count": 2,
   "metadata": {},
   "outputs": [
    {
     "name": "stdout",
     "output_type": "stream",
     "text": [
      "using device: cuda\n"
     ]
    }
   ],
   "source": [
    "device = torch.device(\"cuda\" if torch.cuda.is_available() else \"cpu\")\n",
    "print(f'using device: {device}')"
   ]
  },
  {
   "cell_type": "markdown",
   "metadata": {},
   "source": [
    "### Data Preprocessing"
   ]
  },
  {
   "cell_type": "code",
   "execution_count": 9,
   "metadata": {},
   "outputs": [],
   "source": [
    "data = pd.read_csv('p4_data_cleaned.csv')"
   ]
  },
  {
   "cell_type": "code",
   "execution_count": 11,
   "metadata": {},
   "outputs": [
    {
     "data": {
      "text/html": [
       "<div>\n",
       "<style scoped>\n",
       "    .dataframe tbody tr th:only-of-type {\n",
       "        vertical-align: middle;\n",
       "    }\n",
       "\n",
       "    .dataframe tbody tr th {\n",
       "        vertical-align: top;\n",
       "    }\n",
       "\n",
       "    .dataframe thead th {\n",
       "        text-align: right;\n",
       "    }\n",
       "</style>\n",
       "<table border=\"1\" class=\"dataframe\">\n",
       "  <thead>\n",
       "    <tr style=\"text-align: right;\">\n",
       "      <th></th>\n",
       "      <th>sentiment</th>\n",
       "      <th>vocab index</th>\n",
       "    </tr>\n",
       "  </thead>\n",
       "  <tbody>\n",
       "    <tr>\n",
       "      <th>0</th>\n",
       "      <td>1</td>\n",
       "      <td>[0, 1, 2, 3, 4, 5, 6, 7, 8, 9, 10, 11, 12, 13,...</td>\n",
       "    </tr>\n",
       "    <tr>\n",
       "      <th>1</th>\n",
       "      <td>0</td>\n",
       "      <td>[25, 26, 27, 28, 29, 30, 31, 32, 33, 34, 35]</td>\n",
       "    </tr>\n",
       "    <tr>\n",
       "      <th>2</th>\n",
       "      <td>0</td>\n",
       "      <td>[36, 37, 38, 39, 40, 3, 41, 42, 43, 44, 45, 46...</td>\n",
       "    </tr>\n",
       "    <tr>\n",
       "      <th>3</th>\n",
       "      <td>1</td>\n",
       "      <td>[23, 14, 53, 54, 55, 56, 57, 58, 59, 60, 61, 1...</td>\n",
       "    </tr>\n",
       "    <tr>\n",
       "      <th>4</th>\n",
       "      <td>1</td>\n",
       "      <td>[72, 73, 74, 44, 75, 76, 77, 78, 79, 80, 81, 8...</td>\n",
       "    </tr>\n",
       "  </tbody>\n",
       "</table>\n",
       "</div>"
      ],
      "text/plain": [
       "   sentiment                                        vocab index\n",
       "0          1  [0, 1, 2, 3, 4, 5, 6, 7, 8, 9, 10, 11, 12, 13,...\n",
       "1          0       [25, 26, 27, 28, 29, 30, 31, 32, 33, 34, 35]\n",
       "2          0  [36, 37, 38, 39, 40, 3, 41, 42, 43, 44, 45, 46...\n",
       "3          1  [23, 14, 53, 54, 55, 56, 57, 58, 59, 60, 61, 1...\n",
       "4          1  [72, 73, 74, 44, 75, 76, 77, 78, 79, 80, 81, 8..."
      ]
     },
     "execution_count": 11,
     "metadata": {},
     "output_type": "execute_result"
    }
   ],
   "source": [
    "data.head()"
   ]
  },
  {
   "cell_type": "code",
   "execution_count": 11,
   "metadata": {},
   "outputs": [],
   "source": [
    "data['vocab index'] = data['vocab index'].apply(json.loads)"
   ]
  },
  {
   "cell_type": "code",
   "execution_count": 12,
   "metadata": {},
   "outputs": [
    {
     "name": "stdout",
     "output_type": "stream",
     "text": [
      "95th percentile will be used to pad/truncate our review lengths: 79\n"
     ]
    }
   ],
   "source": [
    "lengths = data['vocab index'].apply(len)\n",
    "percentile_95 = int(np.percentile(lengths, 95))\n",
    "print('95th percentile will be used to pad/truncate our review lengths:', percentile_95)"
   ]
  },
  {
   "cell_type": "code",
   "execution_count": 13,
   "metadata": {},
   "outputs": [],
   "source": [
    "data_padded = torch.nn.utils.rnn.pad_sequence([torch.LongTensor(seq) for seq in data['vocab index']], batch_first=True)"
   ]
  },
  {
   "cell_type": "code",
   "execution_count": 14,
   "metadata": {},
   "outputs": [],
   "source": [
    "X = data_padded\n",
    "y = data.iloc[:, 0]\n",
    "y_tensor = torch.tensor(y.values, dtype=torch.long)"
   ]
  },
  {
   "cell_type": "code",
   "execution_count": 15,
   "metadata": {},
   "outputs": [],
   "source": [
    "X_train, X_val, y_train, y_val = train_test_split(X, y_tensor, test_size = .1, stratify=y, random_state=676)\n",
    "X_train, X_test, y_train, y_test = train_test_split(X_train, y_train, test_size = len(y_val), stratify=y_train, random_state=676)"
   ]
  },
  {
   "cell_type": "code",
   "execution_count": 16,
   "metadata": {},
   "outputs": [
    {
     "name": "stdout",
     "output_type": "stream",
     "text": [
      "X train: torch.Size([233600, 166]) | y train: torch.Size([233600])\n",
      "X validation: torch.Size([29200, 166]) | y validation: torch.Size([29200])\n",
      "X test: torch.Size([29200, 166]) | y test: torch.Size([29200])\n"
     ]
    }
   ],
   "source": [
    "print('X train:', X_train.shape, '| y train:', y_train.shape)\n",
    "print('X validation:', X_val.shape, '| y validation:', y_val.shape)\n",
    "print('X test:', X_test.shape, '| y test:', y_test.shape)"
   ]
  },
  {
   "cell_type": "code",
   "execution_count": 19,
   "metadata": {},
   "outputs": [],
   "source": [
    "from torch.utils.data import DataLoader, TensorDataset\n",
    "\n",
    "train_dataset = TensorDataset(X_train, y_train)\n",
    "val_dataset = TensorDataset(X_val, y_val)\n",
    "test_dataset = TensorDataset(X_test, y_test)\n",
    "\n",
    "batch_size = 256\n",
    "train_loader = DataLoader(train_dataset, batch_size=batch_size, shuffle=True, pin_memory=True)\n",
    "val_loader = DataLoader(val_dataset, batch_size=batch_size, shuffle=False, pin_memory=True)\n",
    "test_loader = DataLoader(test_dataset, batch_size=batch_size, shuffle=False, pin_memory=True)"
   ]
  },
  {
   "cell_type": "markdown",
   "metadata": {},
   "source": [
    "## Implementation of Transformer Architecture"
   ]
  },
  {
   "cell_type": "code",
   "execution_count": 3,
   "metadata": {},
   "outputs": [],
   "source": [
    "class PositionalEncoder(nn.Module):\n",
    "    def __init__(self, d_model, max_length):\n",
    "        super(PositionalEncoder, self).__init__()\n",
    "        pe = torch.zeros(max_length, d_model)\n",
    "        pos = torch.arange(0, max_length, dtype=torch.float).unsqueeze(1)\n",
    "        div = torch.exp(torch.arange(0, d_model, 2).float() * -(math.log(10000.0) / d_model))\n",
    "\n",
    "        pe[:, 0::2] = torch.sin(pos * div)\n",
    "        pe[:, 1::2] = torch.cos(pos * div)\n",
    "\n",
    "        self.register_buffer('pe', pe.unsqueeze(0)) # batch dim\n",
    "\n",
    "    def forward(self, x):\n",
    "        return x + self.pe[:, :x.size(1)]"
   ]
  },
  {
   "cell_type": "code",
   "execution_count": 7,
   "metadata": {},
   "outputs": [],
   "source": [
    "class Transformer(nn.Module):\n",
    "    def __init__(self):\n",
    "        super(Transformer, self).__init__()\n",
    "        self.embedding = nn.Embedding(341963, 256)\n",
    "        self.pos_encoding = PositionalEncoder(256, 166)\n",
    "        self.encoder_layer = nn.TransformerEncoderLayer(d_model=256, nhead=4, batch_first=True)\n",
    "        self.encoder = nn.TransformerEncoder(self.encoder_layer, num_layers=2)\n",
    "        self.fc = nn.Linear(256, 1)\n",
    "        self.activation = nn.Sigmoid()\n",
    "\n",
    "    def forward(self, x):\n",
    "        x = self.pos_encoding(self.embedding(x))\n",
    "        x = self.encoder(x)\n",
    "        x = x.mean(dim=1)\n",
    "        x = self.activation(self.fc(x))\n",
    "        return x"
   ]
  },
  {
   "cell_type": "code",
   "execution_count": 51,
   "metadata": {},
   "outputs": [
    {
     "data": {
      "text/plain": [
       "==========================================================================================\n",
       "Layer (type:depth-idx)                                            Param #\n",
       "==========================================================================================\n",
       "Transformer                                                       --\n",
       "├─Embedding: 1-1                                                  87,542,528\n",
       "├─PositionalEncoder: 1-2                                          --\n",
       "├─TransformerEncoderLayer: 1-3                                    --\n",
       "│    └─MultiheadAttention: 2-1                                    197,376\n",
       "│    │    └─NonDynamicallyQuantizableLinear: 3-1                  65,792\n",
       "│    └─Linear: 2-2                                                526,336\n",
       "│    └─Dropout: 2-3                                               --\n",
       "│    └─Linear: 2-4                                                524,544\n",
       "│    └─LayerNorm: 2-5                                             512\n",
       "│    └─LayerNorm: 2-6                                             512\n",
       "│    └─Dropout: 2-7                                               --\n",
       "│    └─Dropout: 2-8                                               --\n",
       "├─TransformerEncoder: 1-4                                         --\n",
       "│    └─ModuleList: 2-9                                            --\n",
       "│    │    └─TransformerEncoderLayer: 3-2                          1,315,072\n",
       "│    │    └─TransformerEncoderLayer: 3-3                          1,315,072\n",
       "├─Linear: 1-5                                                     257\n",
       "├─Sigmoid: 1-6                                                    --\n",
       "==========================================================================================\n",
       "Total params: 91,488,001\n",
       "Trainable params: 91,488,001\n",
       "Non-trainable params: 0\n",
       "=========================================================================================="
      ]
     },
     "execution_count": 51,
     "metadata": {},
     "output_type": "execute_result"
    }
   ],
   "source": [
    "net = Transformer().to(device)\n",
    "torchinfo.summary(net)"
   ]
  },
  {
   "cell_type": "markdown",
   "metadata": {},
   "source": [
    "Since our task is classification, the transformer architecture that we will use has only the encoder layers. Each encoder layer features multihead attention, fully connected network layers, layer normalization, and dropout for regularization. There are five of these encoder layers. Before the data is passed through the encoder layers, it is embedded and then positional encoding is applied. The final layer is a fully connected layer with Sigmoid activation since we have a binary classificaiton task with outputs of 0 or 1."
   ]
  },
  {
   "cell_type": "markdown",
   "metadata": {},
   "source": [
    "## Training & Hyperparameter Tuning"
   ]
  },
  {
   "cell_type": "code",
   "execution_count": 33,
   "metadata": {},
   "outputs": [],
   "source": [
    "net = Transformer().to(device)\n",
    "loss_fn = nn.BCELoss()\n",
    "optimizer = torch.optim.Adam(net.parameters(), lr=.001)"
   ]
  },
  {
   "cell_type": "code",
   "execution_count": 35,
   "metadata": {},
   "outputs": [
    {
     "name": "stdout",
     "output_type": "stream",
     "text": [
      "Epoch # 1\n",
      "Loss: training = 0.505287139269504, validation = 0.41522803721220597\n",
      "Accuracy: training = 73.92508561643835%, validation = 80.84246575342465%\n",
      "Epoch # 2\n",
      "Loss: training = 0.3878535302549699, validation = 0.39541500858638595\n",
      "Accuracy: training = 82.58390410958904%, validation = 82.66438356164385%\n",
      "Epoch # 3\n",
      "Loss: training = 0.3453538538265855, validation = 0.38533263854358507\n",
      "Accuracy: training = 85.0560787671233%, validation = 83.17808219178082%\n",
      "Epoch # 4\n",
      "Loss: training = 0.31005071188442546, validation = 0.3879072585831518\n",
      "Accuracy: training = 86.92808219178082%, validation = 83.57876712328766%\n",
      "Epoch # 5\n",
      "Loss: training = 0.2798608025741995, validation = 0.4114760761675627\n",
      "Accuracy: training = 88.44563356164383%, validation = 83.30821917808218%\n",
      "Epoch # 6\n",
      "Loss: training = 0.2474902848848769, validation = 0.41732118492541104\n",
      "Accuracy: training = 90.01027397260273%, validation = 82.91780821917808%\n",
      "Epoch # 7\n",
      "Loss: training = 0.22165438782542063, validation = 0.46381848895031474\n",
      "Accuracy: training = 91.1853595890411%, validation = 82.81164383561644%\n",
      "Epoch # 8\n",
      "Loss: training = 0.19816413582970774, validation = 0.47546636954597804\n",
      "Accuracy: training = 92.30479452054794%, validation = 82.45547945205479%\n",
      "Epoch # 9\n",
      "Loss: training = 0.17814700759188368, validation = 0.5078527745993241\n",
      "Accuracy: training = 93.1228595890411%, validation = 82.07191780821917%\n",
      "Epoch # 10\n",
      "Loss: training = 0.15711313002994784, validation = 0.5628084991289222\n",
      "Accuracy: training = 94.06506849315068%, validation = 81.79109589041096%\n",
      "Estimated training time: 45.2 minutes\n"
     ]
    }
   ],
   "source": [
    "epochs = 10\n",
    "epoch_number = 0\n",
    "\n",
    "start_time = time.time()\n",
    "for epoch in range(epochs):\n",
    "    print(f'Epoch # {epoch_number+1}')\n",
    "\n",
    "    net.train(True)\n",
    "    running_loss = 0.0\n",
    "    correct = 0\n",
    "    total = 0\n",
    "    \n",
    "    for i, data in enumerate(train_loader):\n",
    "        inputs, labels = data\n",
    "        inputs = inputs.to(device)\n",
    "        labels = labels.float().to(device)\n",
    "        optimizer.zero_grad()\n",
    "        outputs = net(inputs)\n",
    "        outputs = outputs.squeeze(1)\n",
    "    \n",
    "        loss = loss_fn(outputs, labels)\n",
    "        loss.backward() # compute gradients\n",
    "        optimizer.step() # update weights\n",
    "        running_loss += loss.item()\n",
    "        \n",
    "        preds = (outputs >= .5).float()\n",
    "        correct += (preds == labels).sum().item()\n",
    "        total += labels.size(0)\n",
    "\n",
    "    train_acc = (correct / total) * 100\n",
    "    avg_loss = running_loss / len(train_loader)\n",
    "\n",
    "    running_vloss = 0.0\n",
    "    net.eval() # set to evaluation mode\n",
    "    vcorrect = 0\n",
    "    vtotal = 0\n",
    "\n",
    "    with torch.no_grad():\n",
    "        for i, vdata in enumerate(val_loader):\n",
    "            vinputs, vlabels = vdata\n",
    "            vinputs = vinputs.to(device)\n",
    "            vlabels = vlabels.float().to(device)\n",
    "            voutputs = net(vinputs)\n",
    "            voutputs = voutputs.squeeze(1)\n",
    "            vloss = loss_fn(voutputs, vlabels)\n",
    "            running_vloss += vloss.item()\n",
    "\n",
    "            vpreds = (voutputs >= .5).float()\n",
    "            vcorrect += (vpreds == vlabels).sum().item()\n",
    "            vtotal += vlabels.size(0)\n",
    "\n",
    "    val_acc = (vcorrect / vtotal) * 100\n",
    "    avg_vloss = running_vloss / len(val_loader)\n",
    "    \n",
    "    print('Loss: training = {}, validation = {}'.format(avg_loss, avg_vloss))\n",
    "    print('Accuracy: training = {}%, validation = {}%'.format(train_acc, val_acc))\n",
    "\n",
    "    epoch_number += 1\n",
    "\n",
    "end_time = time.time()\n",
    "estimated_training_time = end_time - start_time\n",
    "print(f'Estimated training time: {round(estimated_training_time/60, 2)} minutes')"
   ]
  },
  {
   "cell_type": "code",
   "execution_count": 37,
   "metadata": {},
   "outputs": [],
   "source": [
    "# optimization 1\n",
    "net = Transformer().to(device)\n",
    "loss_fn = nn.BCELoss()\n",
    "optimizer = torch.optim.Adam(net.parameters(), lr=.001, weight_decay=.005)"
   ]
  },
  {
   "cell_type": "code",
   "execution_count": 39,
   "metadata": {},
   "outputs": [
    {
     "name": "stdout",
     "output_type": "stream",
     "text": [
      "Optimization Technique #1: Regularization with weight decay = .005\n",
      "Epoch # 1\n",
      "Loss: training = 0.6971739519465009, validation = 0.6914977477944415\n",
      "Accuracy: training = 51.646832191780824%, validation = 53.85616438356165%\n",
      "Epoch # 2\n",
      "Loss: training = 0.6922038168792265, validation = 0.6925800090250762\n",
      "Accuracy: training = 52.13527397260273%, validation = 50.400684931506845%\n",
      "Epoch # 3\n",
      "Loss: training = 0.6920354003321302, validation = 0.6918956404146941\n",
      "Accuracy: training = 52.147260273972606%, validation = 50.928082191780824%\n",
      "Epoch # 4\n",
      "Loss: training = 0.6916205409714322, validation = 0.6899343361025271\n",
      "Accuracy: training = 52.616010273972606%, validation = 53.85958904109589%\n",
      "Epoch # 5\n",
      "Loss: training = 0.6909367642554108, validation = 0.6877781033515931\n",
      "Accuracy: training = 52.965753424657535%, validation = 56.76027397260274%\n",
      "Epoch # 6\n",
      "Loss: training = 0.6927203319289468, validation = 0.693689152987107\n",
      "Accuracy: training = 50.93664383561644%, validation = 49.9486301369863%\n",
      "Epoch # 7\n",
      "Loss: training = 0.6929959646973918, validation = 0.6939691911572995\n",
      "Accuracy: training = 50.76926369863014%, validation = 49.9486301369863%\n",
      "Epoch # 8\n",
      "Loss: training = 0.6930846979296873, validation = 0.6931613942851191\n",
      "Accuracy: training = 50.49828767123288%, validation = 49.9486301369863%\n",
      "Epoch # 9\n",
      "Loss: training = 0.6930805397712649, validation = 0.6932804086933966\n",
      "Accuracy: training = 50.494863013698634%, validation = 49.9486301369863%\n",
      "Epoch # 10\n",
      "Loss: training = 0.6931204925100487, validation = 0.6932389575502147\n",
      "Accuracy: training = 50.30779109589041%, validation = 49.9486301369863%\n",
      "Estimated training time: 44.48 minutes\n"
     ]
    }
   ],
   "source": [
    "epochs = 10\n",
    "epoch_number = 0\n",
    "\n",
    "print('Optimization Technique #1: Regularization with weight decay = .005')\n",
    "start_time = time.time()\n",
    "for epoch in range(epochs):\n",
    "    print(f'Epoch # {epoch_number+1}')\n",
    "\n",
    "    net.train(True)\n",
    "    running_loss = 0.0\n",
    "    correct = 0\n",
    "    total = 0\n",
    "    \n",
    "    for i, data in enumerate(train_loader):\n",
    "        inputs, labels = data\n",
    "        inputs = inputs.to(device)\n",
    "        labels = labels.float().to(device)\n",
    "        optimizer.zero_grad()\n",
    "        outputs = net(inputs)\n",
    "        outputs = outputs.squeeze(1)\n",
    "    \n",
    "        loss = loss_fn(outputs, labels)\n",
    "        loss.backward() # compute gradients\n",
    "        optimizer.step() # update weights\n",
    "        running_loss += loss.item()\n",
    "        \n",
    "        preds = (outputs >= .5).float()\n",
    "        correct += (preds == labels).sum().item()\n",
    "        total += labels.size(0)\n",
    "\n",
    "    train_acc = (correct / total) * 100\n",
    "    avg_loss = running_loss / len(train_loader)\n",
    "\n",
    "    running_vloss = 0.0\n",
    "    net.eval() # set to evaluation mode\n",
    "    vcorrect = 0\n",
    "    vtotal = 0\n",
    "\n",
    "    with torch.no_grad():\n",
    "        for i, vdata in enumerate(val_loader):\n",
    "            vinputs, vlabels = vdata\n",
    "            vinputs = vinputs.to(device)\n",
    "            vlabels = vlabels.float().to(device)\n",
    "            voutputs = net(vinputs)\n",
    "            voutputs = voutputs.squeeze(1)\n",
    "            vloss = loss_fn(voutputs, vlabels)\n",
    "            running_vloss += vloss.item()\n",
    "\n",
    "            vpreds = (voutputs >= .5).float()\n",
    "            vcorrect += (vpreds == vlabels).sum().item()\n",
    "            vtotal += vlabels.size(0)\n",
    "\n",
    "    val_acc = (vcorrect / vtotal) * 100\n",
    "    avg_vloss = running_vloss / len(val_loader)\n",
    "    \n",
    "    print('Loss: training = {}, validation = {}'.format(avg_loss, avg_vloss))\n",
    "    print('Accuracy: training = {}%, validation = {}%'.format(train_acc, val_acc))\n",
    "\n",
    "    epoch_number += 1\n",
    "\n",
    "end_time = time.time()\n",
    "estimated_training_time = end_time - start_time\n",
    "print(f'Estimated training time: {round(estimated_training_time/60, 2)} minutes')"
   ]
  },
  {
   "cell_type": "code",
   "execution_count": 40,
   "metadata": {},
   "outputs": [],
   "source": [
    "# optimization 2\n",
    "net = Transformer().to(device)\n",
    "loss_fn = nn.BCELoss()\n",
    "optimizer = torch.optim.Adam(net.parameters(), lr=.01)\n",
    "scheduler = torch.optim.lr_scheduler.ReduceLROnPlateau(optimizer, mode='min', factor=.1)"
   ]
  },
  {
   "cell_type": "code",
   "execution_count": 41,
   "metadata": {},
   "outputs": [
    {
     "name": "stdout",
     "output_type": "stream",
     "text": [
      "Optimization Technique #2: Learning Rate Scheduler\n",
      "Epoch # 1\n",
      "Loss: training = 0.7022491226713341, validation = 0.6931333837301835\n",
      "Accuracy: training = 50.20933219178082%, validation = 50.0582191780822%\n",
      "Epoch # 2\n",
      "Loss: training = 0.6930949924287242, validation = 0.6931333785471709\n",
      "Accuracy: training = 51.134845890410965%, validation = 50.0582191780822%\n",
      "Epoch # 3\n",
      "Loss: training = 0.6930977698876589, validation = 0.6931333811386772\n",
      "Accuracy: training = 51.130136986301366%, validation = 50.0582191780822%\n",
      "Epoch # 4\n",
      "Loss: training = 0.6930928153250069, validation = 0.6931333749190621\n",
      "Accuracy: training = 51.12842465753425%, validation = 50.0582191780822%\n",
      "Epoch # 5\n",
      "Loss: training = 0.6930934164636368, validation = 0.693133370772652\n",
      "Accuracy: training = 51.16609589041096%, validation = 50.0582191780822%\n",
      "Epoch # 6\n",
      "Loss: training = 0.6930954445883843, validation = 0.693133360924928\n",
      "Accuracy: training = 51.172089041095894%, validation = 50.0582191780822%\n",
      "Epoch # 7\n",
      "Loss: training = 0.6930981818974215, validation = 0.6931333505589029\n",
      "Accuracy: training = 51.108732876712324%, validation = 50.0582191780822%\n",
      "Epoch # 8\n",
      "Loss: training = 0.6930930156827887, validation = 0.6931333344915639\n",
      "Accuracy: training = 51.163527397260275%, validation = 50.0582191780822%\n",
      "Epoch # 9\n",
      "Loss: training = 0.6930993442206367, validation = 0.6931333215340324\n",
      "Accuracy: training = 51.05993150684931%, validation = 50.0582191780822%\n",
      "Epoch # 10\n",
      "Loss: training = 0.6930900864376557, validation = 0.6931333002836808\n",
      "Accuracy: training = 51.172089041095894%, validation = 50.0582191780822%\n",
      "Estimated training time: 43.77 minutes\n"
     ]
    }
   ],
   "source": [
    "epochs = 10\n",
    "epoch_number = 0\n",
    "\n",
    "print('Optimization Technique #2: Learning Rate Scheduler')\n",
    "start_time = time.time()\n",
    "for epoch in range(epochs):\n",
    "    print(f'Epoch # {epoch_number+1}')\n",
    "\n",
    "    net.train(True)\n",
    "    running_loss = 0.0\n",
    "    correct = 0\n",
    "    total = 0\n",
    "    \n",
    "    for i, data in enumerate(train_loader):\n",
    "        inputs, labels = data\n",
    "        inputs = inputs.to(device)\n",
    "        labels = labels.float().to(device)\n",
    "        optimizer.zero_grad()\n",
    "        outputs = net(inputs)\n",
    "        outputs = outputs.squeeze(1)\n",
    "    \n",
    "        loss = loss_fn(outputs, labels)\n",
    "        loss.backward() # compute gradients\n",
    "        optimizer.step() # update weights\n",
    "        running_loss += loss.item()\n",
    "        \n",
    "        preds = (outputs >= .5).float()\n",
    "        correct += (preds == labels).sum().item()\n",
    "        total += labels.size(0)\n",
    "\n",
    "    train_acc = (correct / total) * 100\n",
    "    avg_loss = running_loss / len(train_loader)\n",
    "\n",
    "    running_vloss = 0.0\n",
    "    net.eval() # set to evaluation mode\n",
    "    vcorrect = 0\n",
    "    vtotal = 0\n",
    "\n",
    "    with torch.no_grad():\n",
    "        for i, vdata in enumerate(val_loader):\n",
    "            vinputs, vlabels = vdata\n",
    "            vinputs = vinputs.to(device)\n",
    "            vlabels = vlabels.float().to(device)\n",
    "            voutputs = net(vinputs)\n",
    "            voutputs = voutputs.squeeze(1)\n",
    "            vloss = loss_fn(voutputs, vlabels)\n",
    "            scheduler.step(vloss)\n",
    "            running_vloss += vloss.item()\n",
    "\n",
    "            vpreds = (voutputs >= .5).float()\n",
    "            vcorrect += (vpreds == vlabels).sum().item()\n",
    "            vtotal += vlabels.size(0)\n",
    "\n",
    "    val_acc = (vcorrect / vtotal) * 100\n",
    "    avg_vloss = running_vloss / len(val_loader)\n",
    "    \n",
    "    print('Loss: training = {}, validation = {}'.format(avg_loss, avg_vloss))\n",
    "    print('Accuracy: training = {}%, validation = {}%'.format(train_acc, val_acc))\n",
    "\n",
    "    epoch_number += 1\n",
    "\n",
    "end_time = time.time()\n",
    "estimated_training_time = end_time - start_time\n",
    "print(f'Estimated training time: {round(estimated_training_time/60, 2)} minutes')"
   ]
  },
  {
   "cell_type": "code",
   "execution_count": 42,
   "metadata": {},
   "outputs": [],
   "source": [
    "# optimization 3\n",
    "net = Transformer().to(device)\n",
    "loss_fn = nn.BCELoss()\n",
    "optimizer = torch.optim.AdamW(net.parameters())"
   ]
  },
  {
   "cell_type": "code",
   "execution_count": 43,
   "metadata": {},
   "outputs": [
    {
     "name": "stdout",
     "output_type": "stream",
     "text": [
      "Optimization Technique #3: AdamW Optimizer with adaptive weight decay & learning rate\n",
      "Epoch # 1\n",
      "Loss: training = 0.48667496315490244, validation = 0.40228971009669096\n",
      "Accuracy: training = 75.71232876712328%, validation = 81.82876712328768%\n",
      "Epoch # 2\n",
      "Loss: training = 0.3733256929610149, validation = 0.3824727009172025\n",
      "Accuracy: training = 83.48073630136986%, validation = 83.26712328767123%\n",
      "Epoch # 3\n",
      "Loss: training = 0.33218704949072914, validation = 0.3873520884824836\n",
      "Accuracy: training = 85.72303082191782%, validation = 83.4486301369863%\n",
      "Epoch # 4\n",
      "Loss: training = 0.3010513014430415, validation = 0.39076035385546476\n",
      "Accuracy: training = 87.48073630136986%, validation = 83.40068493150685%\n",
      "Epoch # 5\n",
      "Loss: training = 0.2705382211837685, validation = 0.424230936040049\n",
      "Accuracy: training = 88.8505993150685%, validation = 83.24657534246576%\n",
      "Epoch # 6\n",
      "Loss: training = 0.24122212172729685, validation = 0.4369122352289117\n",
      "Accuracy: training = 90.27953767123287%, validation = 82.92808219178082%\n",
      "Epoch # 7\n",
      "Loss: training = 0.21852506483371523, validation = 0.42858944276104805\n",
      "Accuracy: training = 91.3972602739726%, validation = 83.16780821917808%\n",
      "Epoch # 8\n",
      "Loss: training = 0.1935694768355684, validation = 0.5036062030688576\n",
      "Accuracy: training = 92.52739726027397%, validation = 82.41438356164383%\n",
      "Epoch # 9\n",
      "Loss: training = 0.1708453094335793, validation = 0.5136806920818661\n",
      "Accuracy: training = 93.53638698630137%, validation = 82.15068493150685%\n",
      "Epoch # 10\n",
      "Loss: training = 0.15529837483807435, validation = 0.5398735113765882\n",
      "Accuracy: training = 94.14041095890411%, validation = 81.91438356164383%\n",
      "Estimated training time: 44.7 minutes\n"
     ]
    }
   ],
   "source": [
    "epochs = 10\n",
    "epoch_number = 0\n",
    "\n",
    "print('Optimization Technique #3: AdamW Optimizer with adaptive weight decay & learning rate')\n",
    "start_time = time.time()\n",
    "for epoch in range(epochs):\n",
    "    print(f'Epoch # {epoch_number+1}')\n",
    "\n",
    "    net.train(True)\n",
    "    running_loss = 0.0\n",
    "    correct = 0\n",
    "    total = 0\n",
    "    \n",
    "    for i, data in enumerate(train_loader):\n",
    "        inputs, labels = data\n",
    "        inputs = inputs.to(device)\n",
    "        labels = labels.float().to(device)\n",
    "        optimizer.zero_grad()\n",
    "        outputs = net(inputs)\n",
    "        outputs = outputs.squeeze(1)\n",
    "    \n",
    "        loss = loss_fn(outputs, labels)\n",
    "        loss.backward() # compute gradients\n",
    "        optimizer.step() # update weights\n",
    "        running_loss += loss.item()\n",
    "        \n",
    "        preds = (outputs >= .5).float()\n",
    "        correct += (preds == labels).sum().item()\n",
    "        total += labels.size(0)\n",
    "\n",
    "    train_acc = (correct / total) * 100\n",
    "    avg_loss = running_loss / len(train_loader)\n",
    "\n",
    "    running_vloss = 0.0\n",
    "    net.eval() # set to evaluation mode\n",
    "    vcorrect = 0\n",
    "    vtotal = 0\n",
    "\n",
    "    with torch.no_grad():\n",
    "        for i, vdata in enumerate(val_loader):\n",
    "            vinputs, vlabels = vdata\n",
    "            vinputs = vinputs.to(device)\n",
    "            vlabels = vlabels.float().to(device)\n",
    "            voutputs = net(vinputs)\n",
    "            voutputs = voutputs.squeeze(1)\n",
    "            vloss = loss_fn(voutputs, vlabels)\n",
    "            running_vloss += vloss.item()\n",
    "\n",
    "            vpreds = (voutputs >= .5).float()\n",
    "            vcorrect += (vpreds == vlabels).sum().item()\n",
    "            vtotal += vlabels.size(0)\n",
    "\n",
    "    val_acc = (vcorrect / vtotal) * 100\n",
    "    avg_vloss = running_vloss / len(val_loader)\n",
    "    \n",
    "    print('Loss: training = {}, validation = {}'.format(avg_loss, avg_vloss))\n",
    "    print('Accuracy: training = {}%, validation = {}%'.format(train_acc, val_acc))\n",
    "\n",
    "    epoch_number += 1\n",
    "\n",
    "end_time = time.time()\n",
    "estimated_training_time = end_time - start_time\n",
    "print(f'Estimated training time: {round(estimated_training_time/60, 2)} minutes')"
   ]
  },
  {
   "cell_type": "markdown",
   "metadata": {},
   "source": [
    "#### Saving the best model"
   ]
  },
  {
   "cell_type": "code",
   "execution_count": 64,
   "metadata": {},
   "outputs": [],
   "source": [
    "net = Transformer().to(device)\n",
    "loss_fn = nn.BCELoss()\n",
    "optimizer = torch.optim.AdamW(net.parameters())"
   ]
  },
  {
   "cell_type": "code",
   "execution_count": 56,
   "metadata": {},
   "outputs": [
    {
     "name": "stdout",
     "output_type": "stream",
     "text": [
      "Best Model: AdamW Optimizer with adaptive weight decay & learning rate\n",
      "Epoch # 1\n",
      "Loss: training = 0.49801144813394493, validation = 0.41413625997045767\n",
      "Accuracy: training = 74.7722602739726%, validation = 81.16780821917808%\n",
      "Epoch # 2\n",
      "Loss: training = 0.3802708210454191, validation = 0.3797838698262754\n",
      "Accuracy: training = 83.07020547945206%, validation = 83.06164383561644%\n",
      "Epoch # 3\n",
      "Loss: training = 0.3362752154779591, validation = 0.3869849101356838\n",
      "Accuracy: training = 85.52482876712328%, validation = 82.7123287671233%\n",
      "Epoch # 4\n",
      "Loss: training = 0.3025956087442766, validation = 0.3968831401804219\n",
      "Accuracy: training = 87.32662671232877%, validation = 83.45890410958904%\n",
      "Epoch # 5\n",
      "Loss: training = 0.270392854856113, validation = 0.3939448105252307\n",
      "Accuracy: training = 88.94820205479452%, validation = 83.23630136986301%\n",
      "Estimated training time: 22.53 minutes\n"
     ]
    }
   ],
   "source": [
    "epochs = 5\n",
    "epoch_number = 0\n",
    "best_vloss = 1000000\n",
    "\n",
    "best_train_loss = []\n",
    "best_val_loss = []\n",
    "best_train_accuracy = []\n",
    "best_val_accuracy = []\n",
    "\n",
    "print('Best Model: AdamW Optimizer with adaptive weight decay & learning rate')\n",
    "start_time = time.time()\n",
    "for epoch in range(epochs):\n",
    "    print(f'Epoch # {epoch_number+1}')\n",
    "\n",
    "    net.train(True)\n",
    "    running_loss = 0.0\n",
    "    correct = 0\n",
    "    total = 0\n",
    "    \n",
    "    for i, data in enumerate(train_loader):\n",
    "        inputs, labels = data\n",
    "        inputs = inputs.to(device)\n",
    "        labels = labels.float().to(device)\n",
    "        optimizer.zero_grad()\n",
    "        outputs = net(inputs)\n",
    "        outputs = outputs.squeeze(1)\n",
    "    \n",
    "        loss = loss_fn(outputs, labels)\n",
    "        loss.backward() # compute gradients\n",
    "        optimizer.step() # update weights\n",
    "        running_loss += loss.item()\n",
    "        \n",
    "        preds = (outputs >= .5).float()\n",
    "        correct += (preds == labels).sum().item()\n",
    "        total += labels.size(0)\n",
    "\n",
    "    train_acc = (correct / total) * 100\n",
    "    avg_loss = running_loss / len(train_loader)\n",
    "    best_train_loss.append(avg_loss)\n",
    "    best_train_accuracy.append(train_acc)\n",
    "\n",
    "    running_vloss = 0.0\n",
    "    net.eval() # set to evaluation mode\n",
    "    vcorrect = 0\n",
    "    vtotal = 0\n",
    "\n",
    "    with torch.no_grad():\n",
    "        for i, vdata in enumerate(val_loader):\n",
    "            vinputs, vlabels = vdata\n",
    "            vinputs = vinputs.to(device)\n",
    "            vlabels = vlabels.float().to(device)\n",
    "            voutputs = net(vinputs)\n",
    "            voutputs = voutputs.squeeze(1)\n",
    "            vloss = loss_fn(voutputs, vlabels)\n",
    "            running_vloss += vloss.item()\n",
    "\n",
    "            vpreds = (voutputs >= .5).float()\n",
    "            vcorrect += (vpreds == vlabels).sum().item()\n",
    "            vtotal += vlabels.size(0)\n",
    "\n",
    "    val_acc = (vcorrect / vtotal) * 100\n",
    "    avg_vloss = running_vloss / len(val_loader)\n",
    "    best_val_loss.append(avg_vloss)\n",
    "    best_val_accuracy.append(val_acc)\n",
    "    \n",
    "    print('Loss: training = {}, validation = {}'.format(avg_loss, avg_vloss))\n",
    "    print('Accuracy: training = {}%, validation = {}%'.format(train_acc, val_acc))\n",
    "\n",
    "    if avg_vloss < best_vloss:\n",
    "        best_vloss = avg_vloss\n",
    "        best_model = copy.deepcopy(net.state_dict())\n",
    "        torch.save(best_model, 'a2_part_4_dawsonda_ergregoi.pth')\n",
    "\n",
    "    epoch_number += 1\n",
    "\n",
    "end_time = time.time()\n",
    "estimated_training_time = end_time - start_time\n",
    "print(f'Estimated training time: {round(estimated_training_time/60, 2)} minutes')"
   ]
  },
  {
   "cell_type": "code",
   "execution_count": 66,
   "metadata": {},
   "outputs": [
    {
     "name": "stdout",
     "output_type": "stream",
     "text": [
      "Test Loss: 0.38151270462119063\n",
      "Test Accuracy: 82.92808219178082%\n"
     ]
    }
   ],
   "source": [
    "epochs = 1\n",
    "predictions = []\n",
    "targets = []\n",
    "roc_outputs = []\n",
    "\n",
    "for epoch in range(epochs):\n",
    "    best_nn_path = torch.load('a2_part_4_dawsonda_ergregoi.pth', weights_only=True)\n",
    "    net.load_state_dict(best_nn_path)\n",
    "\n",
    "    running_loss = 0.0\n",
    "    net.eval() # set to evaluation mode\n",
    "    correct = 0\n",
    "    total = 0\n",
    "\n",
    "    with torch.no_grad():\n",
    "        for i, data in enumerate(test_loader):\n",
    "            inputs, labels = data\n",
    "            inputs = inputs.to(device)\n",
    "            labels = labels.float().to(device)\n",
    "            outputs = net(inputs)\n",
    "            outputs = outputs.squeeze(1)\n",
    "            loss = loss_fn(outputs, labels)\n",
    "            running_loss += loss.item()\n",
    "            \n",
    "            preds = (outputs >= .5).float()\n",
    "            correct += (preds == labels).sum().item()\n",
    "            total += labels.size(0)\n",
    "\n",
    "            predictions.append(preds)\n",
    "            targets.append(labels)\n",
    "            roc_outputs.append(outputs)\n",
    "\n",
    "    test_acc = (correct / total) * 100\n",
    "    avg_test_loss = running_loss / len(test_loader)\n",
    "\n",
    "print(f'Test Loss: {avg_test_loss}')\n",
    "print(f'Test Accuracy: {test_acc}%')"
   ]
  },
  {
   "cell_type": "markdown",
   "metadata": {},
   "source": [
    "The first optimization technique that I used was adding regularization by adding weight decay to the Adam optimizer. Unfortunately, this completely decreased the performance of the transformer and made the validation accuracy rather instable. After this, I tried using a learning rate scheduler which also decresed the model's performance and let to very little change in the model's performance as epochs progressed. The last optimization technique that I used was changing the optimizer to Adam W. This is because the Adam W optimizer adaptively updates the learning rate and weight decay dynamically as the epochs progress. Since I had such little luck manually adjusting my learning rate and regularization, I believe that this was the smart next choice to combine the two while doing so adaptively. In the end, AdamW did not perform signficantly differently than the Adam optimizer that had no weight decay and a fixed learning rate. However, I believe that AdamW is still preferable due to its ability to be adaptive and dynamic with learning rate and regularization. I did not utilize dropout as an additional optimization technique because my transformer's encoder layers already have dropout built in to help prevent overfitting and increase generalization. After closely monitoring during training and optimization runs, I will run the final best model for only 5 epochs as a way of early stopping of sorts to help prevent overfitting."
   ]
  },
  {
   "cell_type": "code",
   "execution_count": 68,
   "metadata": {},
   "outputs": [
    {
     "name": "stdout",
     "output_type": "stream",
     "text": [
      "Best Model Loss: Training = 0.270392854856113, Validation = 0.3939448105252307, Test = 0.38151270462119063\n",
      "Best Model Accuracy: Training = 88.94820205479452%, Validation = 83.23630136986301%, Test = 82.92808219178082%\n"
     ]
    }
   ],
   "source": [
    "print(f'Best Model Loss: Training = {best_train_loss[-1]}, Validation = {best_val_loss[-1]}, Test = {avg_test_loss}')\n",
    "print(f'Best Model Accuracy: Training = {best_train_accuracy[-1]}%, Validation = {best_val_accuracy[-1]}%, Test = {test_acc}%')"
   ]
  },
  {
   "cell_type": "markdown",
   "metadata": {},
   "source": [
    "The best model ended training with a high training accuracy and low loss values. The validation and test sets also passed the expected threshold of 80% which was the model's goal. Some overfitting can be seen by the higher values on the training dataset, but not significantly so as it is in a healthy range. "
   ]
  },
  {
   "cell_type": "code",
   "execution_count": 70,
   "metadata": {},
   "outputs": [
    {
     "data": {
      "image/png": "[encoded data removed]",
      "text/plain": [
       "<Figure size 640x480 with 1 Axes>"
      ]
     },
     "metadata": {},
     "output_type": "display_data"
    }
   ],
   "source": [
    "plt.figure()\n",
    "plt.plot(best_train_accuracy, label = 'Training')\n",
    "plt.plot(best_val_accuracy, label = 'Validation')\n",
    "plt.xlabel('Epoch', fontsize=20)\n",
    "plt.ylabel('Accuracy Percentage', fontsize=20)\n",
    "plt.title('Accuracy Per Epoch', fontsize=24)\n",
    "plt.legend() \n",
    "plt.grid()\n",
    "plt.show()"
   ]
  },
  {
   "cell_type": "code",
   "execution_count": 72,
   "metadata": {},
   "outputs": [
    {
     "data": {
      "image/png": "[encoded data removed]",
      "text/plain": [
       "<Figure size 640x480 with 1 Axes>"
      ]
     },
     "metadata": {},
     "output_type": "display_data"
    }
   ],
   "source": [
    "plt.figure()\n",
    "plt.plot(best_train_loss, label = 'Training')\n",
    "plt.plot(best_val_loss, label = 'Validation')\n",
    "plt.xlabel('Epoch', fontsize=20)\n",
    "plt.ylabel('Binary Cross Entropy Loss', fontsize=20)\n",
    "plt.title('Loss Per Epoch', fontsize=24)\n",
    "plt.legend() \n",
    "plt.grid()\n",
    "plt.show()"
   ]
  },
  {
   "cell_type": "code",
   "execution_count": 74,
   "metadata": {},
   "outputs": [],
   "source": [
    "preds2 = torch.cat(predictions)\n",
    "preds2 = preds2.to('cpu')\n",
    "targets2 = torch.cat(targets)\n",
    "targets2 = targets2.to('cpu')"
   ]
  },
  {
   "cell_type": "code",
   "execution_count": 76,
   "metadata": {},
   "outputs": [
    {
     "name": "stdout",
     "output_type": "stream",
     "text": [
      "Precision: 0.829291884980119, Recall: 0.8292837731696798, F1 Score: 0.8292801249344564\n"
     ]
    }
   ],
   "source": [
    "scores = precision_recall_fscore_support(targets2, preds2, average='macro')\n",
    "print(f'Precision: {scores[0]}, Recall: {scores[1]}, F1 Score: {scores[2]}')"
   ]
  },
  {
   "cell_type": "markdown",
   "metadata": {},
   "source": [
    "A common goal for precision, recall, and f1 scores are to be above .80. Fortunately, all three of these scores are above .80 on the test set meaning that the model was able to accurately learn the best weights, correctly identify the sentiments and attain a high output quality."
   ]
  },
  {
   "cell_type": "code",
   "execution_count": 92,
   "metadata": {},
   "outputs": [
    {
     "data": {
      "image/png": "[encoded data removed]",
      "text/plain": [
       "<Figure size 640x480 with 1 Axes>"
      ]
     },
     "metadata": {},
     "output_type": "display_data"
    }
   ],
   "source": [
    "roc_outputs2 = torch.cat(roc_outputs)\n",
    "roc_outputs2 = roc_outputs2.to('cpu')\n",
    "targets3 = targets2.long()\n",
    "roc = ROC(task=\"binary\")\n",
    "fpr, tpr, thresholds = roc(roc_outputs2, targets3)\n",
    "\n",
    "plt.figure()\n",
    "plt.plot(fpr, tpr)\n",
    "plt.xlabel('False Positive Rate', fontsize=20)\n",
    "plt.ylabel('True Positive Rate', fontsize=20)\n",
    "plt.title('ROC Curve', fontsize=24)\n",
    "plt.grid()\n",
    "plt.show()"
   ]
  },
  {
   "cell_type": "markdown",
   "metadata": {},
   "source": [
    "When looking at a ROC curve, the goal is to have the curve hug the lefthand corner as tightly as possible. Seeing as there is a great curve here and it is tight to the upper left corner, this shows that the model does a good job at accurately predicting true positives and avoiding false positives."
   ]
  },
  {
   "cell_type": "markdown",
   "metadata": {},
   "source": [
    "##### References"
   ]
  },
  {
   "cell_type": "markdown",
   "metadata": {},
   "source": [
    "Dataset: \"amazon_review_full_csv.tar.gz\"\n",
    "\n",
    "PyTorch Contributors. \"TransformerDecoder.\" PyTorch, https://docs.pytorch.org/docs/stable/generated/torch.nn.TransformerDecoder.html. Accessed 26 June 2025.\n",
    "\n",
    "PyTorch Contributors. \"TransformerEncoder.\" PyTorch, https://docs.pytorch.org/docs/stable/generated/torch.nn.TransformerEncoder.html. Accessed 26 June 2025.\n",
    "\n",
    "Reher, Dorothea. \"How to Build and Train a PyTorch Transformer Encoder.\" BuiltIn, 2 Apr 2025, https://builtin.com/artificial-intelligence/pytorch-transformer-encoder. Accessed 25 June 2025. \n",
    "\n",
    "Sarkar, Arjun. \"Build your own Transformer from scratch using Pytorch.\" Medium, 26 Apr 2023, https://medium.com/data-science/build-your-own-transformer-from-scratch-using-pytorch-84c850470dcb. Accessed 25 June 2025. "
   ]
  }
 ],
 "metadata": {
  "kernelspec": {
   "display_name": "Python 3 (ipykernel)",
   "language": "python",
   "name": "python3"
  },
  "language_info": {
   "codemirror_mode": {
    "name": "ipython",
    "version": 3
   },
   "file_extension": ".py",
   "mimetype": "text/x-python",
   "name": "python",
   "nbconvert_exporter": "python",
   "pygments_lexer": "ipython3",
   "version": "3.12.7"
  }
 },
 "nbformat": 4,
 "nbformat_minor": 4
}
